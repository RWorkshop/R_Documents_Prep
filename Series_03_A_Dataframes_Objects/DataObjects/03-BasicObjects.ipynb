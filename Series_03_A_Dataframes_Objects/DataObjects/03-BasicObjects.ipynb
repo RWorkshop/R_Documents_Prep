{
 "cells": [
  {
   "cell_type": "code",
   "execution_count": 1,
   "metadata": {
    "collapsed": true
   },
   "outputs": [],
   "source": [
    "x = 4;"
   ]
  },
  {
   "cell_type": "code",
   "execution_count": 2,
   "metadata": {
    "collapsed": true
   },
   "outputs": [],
   "source": [
    "x =c(1,5,6,4,3,2,6,7)"
   ]
  },
  {
   "cell_type": "code",
   "execution_count": 3,
   "metadata": {
    "collapsed": false
   },
   "outputs": [
    {
     "data": {
      "text/html": [
       "4.25"
      ],
      "text/latex": [
       "4.25"
      ],
      "text/markdown": [
       "4.25"
      ],
      "text/plain": [
       "[1] 4.25"
      ]
     },
     "metadata": {},
     "output_type": "display_data"
    }
   ],
   "source": [
    "mean(x)"
   ]
  },
  {
   "cell_type": "code",
   "execution_count": 4,
   "metadata": {
    "collapsed": false
   },
   "outputs": [
    {
     "data": {
      "text/html": [
       "8"
      ],
      "text/latex": [
       "8"
      ],
      "text/markdown": [
       "8"
      ],
      "text/plain": [
       "[1] 8"
      ]
     },
     "metadata": {},
     "output_type": "display_data"
    }
   ],
   "source": [
    "length(x)"
   ]
  },
  {
   "cell_type": "code",
   "execution_count": 8,
   "metadata": {
    "collapsed": false
   },
   "outputs": [],
   "source": [
    "myttest = t.test(x,mu=4)"
   ]
  },
  {
   "cell_type": "code",
   "execution_count": 9,
   "metadata": {
    "collapsed": false
   },
   "outputs": [
    {
     "data": {
      "text/html": [
       "<ol class=list-inline>\n",
       "\t<li>'statistic'</li>\n",
       "\t<li>'parameter'</li>\n",
       "\t<li>'p.value'</li>\n",
       "\t<li>'conf.int'</li>\n",
       "\t<li>'estimate'</li>\n",
       "\t<li>'null.value'</li>\n",
       "\t<li>'alternative'</li>\n",
       "\t<li>'method'</li>\n",
       "\t<li>'data.name'</li>\n",
       "</ol>\n"
      ],
      "text/latex": [
       "\\begin{enumerate*}\n",
       "\\item 'statistic'\n",
       "\\item 'parameter'\n",
       "\\item 'p.value'\n",
       "\\item 'conf.int'\n",
       "\\item 'estimate'\n",
       "\\item 'null.value'\n",
       "\\item 'alternative'\n",
       "\\item 'method'\n",
       "\\item 'data.name'\n",
       "\\end{enumerate*}\n"
      ],
      "text/markdown": [
       "1. 'statistic'\n",
       "2. 'parameter'\n",
       "3. 'p.value'\n",
       "4. 'conf.int'\n",
       "5. 'estimate'\n",
       "6. 'null.value'\n",
       "7. 'alternative'\n",
       "8. 'method'\n",
       "9. 'data.name'\n",
       "\n",
       "\n"
      ],
      "text/plain": [
       "[1] \"statistic\"   \"parameter\"   \"p.value\"     \"conf.int\"    \"estimate\"   \n",
       "[6] \"null.value\"  \"alternative\" \"method\"      \"data.name\"  "
      ]
     },
     "metadata": {},
     "output_type": "display_data"
    }
   ],
   "source": [
    "#class\n",
    "#mode\n",
    "#names\n",
    "#summary\n",
    "names(myttest)"
   ]
  },
  {
   "cell_type": "code",
   "execution_count": 11,
   "metadata": {
    "collapsed": false
   },
   "outputs": [
    {
     "data": {
      "text/html": [
       "0.748644548754094"
      ],
      "text/latex": [
       "0.748644548754094"
      ],
      "text/markdown": [
       "0.748644548754094"
      ],
      "text/plain": [
       "[1] 0.7486445"
      ]
     },
     "metadata": {},
     "output_type": "display_data"
    }
   ],
   "source": [
    "myttest$p.value"
   ]
  },
  {
   "cell_type": "code",
   "execution_count": 12,
   "metadata": {
    "collapsed": false
   },
   "outputs": [
    {
     "data": {
      "text/html": [
       "<ol class=list-inline>\n",
       "\t<li>21</li>\n",
       "\t<li>21</li>\n",
       "\t<li>22.8</li>\n",
       "\t<li>21.4</li>\n",
       "\t<li>18.7</li>\n",
       "\t<li>18.1</li>\n",
       "\t<li>14.3</li>\n",
       "\t<li>24.4</li>\n",
       "\t<li>22.8</li>\n",
       "\t<li>19.2</li>\n",
       "\t<li>17.8</li>\n",
       "\t<li>16.4</li>\n",
       "\t<li>17.3</li>\n",
       "\t<li>15.2</li>\n",
       "\t<li>10.4</li>\n",
       "\t<li>10.4</li>\n",
       "\t<li>14.7</li>\n",
       "\t<li>32.4</li>\n",
       "\t<li>30.4</li>\n",
       "\t<li>33.9</li>\n",
       "\t<li>21.5</li>\n",
       "\t<li>15.5</li>\n",
       "\t<li>15.2</li>\n",
       "\t<li>13.3</li>\n",
       "\t<li>19.2</li>\n",
       "\t<li>27.3</li>\n",
       "\t<li>26</li>\n",
       "\t<li>30.4</li>\n",
       "\t<li>15.8</li>\n",
       "\t<li>19.7</li>\n",
       "\t<li>15</li>\n",
       "\t<li>21.4</li>\n",
       "</ol>\n"
      ],
      "text/latex": [
       "\\begin{enumerate*}\n",
       "\\item 21\n",
       "\\item 21\n",
       "\\item 22.8\n",
       "\\item 21.4\n",
       "\\item 18.7\n",
       "\\item 18.1\n",
       "\\item 14.3\n",
       "\\item 24.4\n",
       "\\item 22.8\n",
       "\\item 19.2\n",
       "\\item 17.8\n",
       "\\item 16.4\n",
       "\\item 17.3\n",
       "\\item 15.2\n",
       "\\item 10.4\n",
       "\\item 10.4\n",
       "\\item 14.7\n",
       "\\item 32.4\n",
       "\\item 30.4\n",
       "\\item 33.9\n",
       "\\item 21.5\n",
       "\\item 15.5\n",
       "\\item 15.2\n",
       "\\item 13.3\n",
       "\\item 19.2\n",
       "\\item 27.3\n",
       "\\item 26\n",
       "\\item 30.4\n",
       "\\item 15.8\n",
       "\\item 19.7\n",
       "\\item 15\n",
       "\\item 21.4\n",
       "\\end{enumerate*}\n"
      ],
      "text/markdown": [
       "1. 21\n",
       "2. 21\n",
       "3. 22.8\n",
       "4. 21.4\n",
       "5. 18.7\n",
       "6. 18.1\n",
       "7. 14.3\n",
       "8. 24.4\n",
       "9. 22.8\n",
       "10. 19.2\n",
       "11. 17.8\n",
       "12. 16.4\n",
       "13. 17.3\n",
       "14. 15.2\n",
       "15. 10.4\n",
       "16. 10.4\n",
       "17. 14.7\n",
       "18. 32.4\n",
       "19. 30.4\n",
       "20. 33.9\n",
       "21. 21.5\n",
       "22. 15.5\n",
       "23. 15.2\n",
       "24. 13.3\n",
       "25. 19.2\n",
       "26. 27.3\n",
       "27. 26\n",
       "28. 30.4\n",
       "29. 15.8\n",
       "30. 19.7\n",
       "31. 15\n",
       "32. 21.4\n",
       "\n",
       "\n"
      ],
      "text/plain": [
       " [1] 21.0 21.0 22.8 21.4 18.7 18.1 14.3 24.4 22.8 19.2 17.8 16.4 17.3 15.2 10.4\n",
       "[16] 10.4 14.7 32.4 30.4 33.9 21.5 15.5 15.2 13.3 19.2 27.3 26.0 30.4 15.8 19.7\n",
       "[31] 15.0 21.4"
      ]
     },
     "metadata": {},
     "output_type": "display_data"
    }
   ],
   "source": [
    "mtcars$mpg"
   ]
  },
  {
   "cell_type": "code",
   "execution_count": 14,
   "metadata": {
    "collapsed": false
   },
   "outputs": [
    {
     "data": {
      "text/plain": [
       "   \n",
       "     0  1\n",
       "  0 12  7\n",
       "  1  6  7"
      ]
     },
     "metadata": {},
     "output_type": "display_data"
    }
   ],
   "source": [
    "table(mtcars$am,mtcars$vs)"
   ]
  },
  {
   "cell_type": "code",
   "execution_count": 15,
   "metadata": {
    "collapsed": false
   },
   "outputs": [
    {
     "data": {
      "text/plain": [
       "\n",
       "\tPearson's Chi-squared test with Yates' continuity correction\n",
       "\n",
       "data:  mtcars$am and mtcars$vs\n",
       "X-squared = 0.34754, df = 1, p-value = 0.5555\n"
      ]
     },
     "metadata": {},
     "output_type": "display_data"
    }
   ],
   "source": [
    "chisq.test(mtcars$am,mtcars$vs)"
   ]
  },
  {
   "cell_type": "code",
   "execution_count": 16,
   "metadata": {
    "collapsed": false
   },
   "outputs": [
    {
     "ename": "ERROR",
     "evalue": "Error in library(broom): there is no package called 'broom'\n",
     "output_type": "error",
     "traceback": [
      "Error in library(broom): there is no package called 'broom'\nTraceback:\n",
      "1. library(broom)",
      "2. stop(txt, domain = NA)"
     ]
    }
   ],
   "source": [
    "library(broom)"
   ]
  },
  {
   "cell_type": "code",
   "execution_count": 18,
   "metadata": {
    "collapsed": false
   },
   "outputs": [
    {
     "name": "stderr",
     "output_type": "stream",
     "text": [
      "Installing package into '/home/nbcommon/R'\n",
      "(as 'lib' is unspecified)\n"
     ]
    }
   ],
   "source": [
    "install.packages(\"broom\")"
   ]
  },
  {
   "cell_type": "code",
   "execution_count": 19,
   "metadata": {
    "collapsed": true
   },
   "outputs": [],
   "source": [
    "library(broom)"
   ]
  },
  {
   "cell_type": "code",
   "execution_count": 20,
   "metadata": {
    "collapsed": false
   },
   "outputs": [
    {
     "data": {
      "text/html": [
       "<table>\n",
       "<thead><tr><th scope=col>estimate</th><th scope=col>statistic</th><th scope=col>p.value</th><th scope=col>parameter</th><th scope=col>conf.low</th><th scope=col>conf.high</th></tr></thead>\n",
       "<tbody>\n",
       "\t<tr><td>4.25     </td><td>0.3333333</td><td>0.7486445</td><td>7        </td><td>2.476532 </td><td>6.023468 </td></tr>\n",
       "</tbody>\n",
       "</table>\n"
      ],
      "text/latex": [
       "\\begin{tabular}{r|llllll}\n",
       " estimate & statistic & p.value & parameter & conf.low & conf.high\\\\\n",
       "\\hline\n",
       "\t 4.25      & 0.3333333 & 0.7486445 & 7         & 2.476532  & 6.023468 \\\\\n",
       "\\end{tabular}\n"
      ],
      "text/markdown": [
       "\n",
       "estimate | statistic | p.value | parameter | conf.low | conf.high | \n",
       "|---|\n",
       "| 4.25      | 0.3333333 | 0.7486445 | 7         | 2.476532  | 6.023468  | \n",
       "\n",
       "\n"
      ],
      "text/plain": [
       "  estimate statistic p.value   parameter conf.low conf.high\n",
       "1 4.25     0.3333333 0.7486445 7         2.476532 6.023468 "
      ]
     },
     "metadata": {},
     "output_type": "display_data"
    }
   ],
   "source": [
    "tidy(myttest)"
   ]
  },
  {
   "cell_type": "code",
   "execution_count": 55,
   "metadata": {
    "collapsed": false
   },
   "outputs": [],
   "source": [
    "X1 <- 1:20"
   ]
  },
  {
   "cell_type": "code",
   "execution_count": 56,
   "metadata": {
    "collapsed": false
   },
   "outputs": [],
   "source": [
    "X2 <- sample(1:6,20,replace=TRUE)"
   ]
  },
  {
   "cell_type": "code",
   "execution_count": 57,
   "metadata": {
    "collapsed": true
   },
   "outputs": [],
   "source": [
    "X3 <-c(\"Kevin\",\"Oscar\",\"Loulou\",\"Sean\")"
   ]
  },
  {
   "cell_type": "code",
   "execution_count": 58,
   "metadata": {
    "collapsed": false
   },
   "outputs": [],
   "source": [
    "X4 <-rep(X3,c(3,7,4,6))"
   ]
  },
  {
   "cell_type": "code",
   "execution_count": 59,
   "metadata": {
    "collapsed": false
   },
   "outputs": [
    {
     "data": {
      "text/html": [
       "<ol class=list-inline>\n",
       "\t<li>'Kevin'</li>\n",
       "\t<li>'Kevin'</li>\n",
       "\t<li>'Kevin'</li>\n",
       "\t<li>'Oscar'</li>\n",
       "\t<li>'Oscar'</li>\n",
       "\t<li>'Oscar'</li>\n",
       "\t<li>'Oscar'</li>\n",
       "\t<li>'Oscar'</li>\n",
       "\t<li>'Oscar'</li>\n",
       "\t<li>'Oscar'</li>\n",
       "\t<li>'Loulou'</li>\n",
       "\t<li>'Loulou'</li>\n",
       "\t<li>'Loulou'</li>\n",
       "\t<li>'Loulou'</li>\n",
       "\t<li>'Sean'</li>\n",
       "\t<li>'Sean'</li>\n",
       "\t<li>'Sean'</li>\n",
       "\t<li>'Sean'</li>\n",
       "\t<li>'Sean'</li>\n",
       "\t<li>'Sean'</li>\n",
       "</ol>\n"
      ],
      "text/latex": [
       "\\begin{enumerate*}\n",
       "\\item 'Kevin'\n",
       "\\item 'Kevin'\n",
       "\\item 'Kevin'\n",
       "\\item 'Oscar'\n",
       "\\item 'Oscar'\n",
       "\\item 'Oscar'\n",
       "\\item 'Oscar'\n",
       "\\item 'Oscar'\n",
       "\\item 'Oscar'\n",
       "\\item 'Oscar'\n",
       "\\item 'Loulou'\n",
       "\\item 'Loulou'\n",
       "\\item 'Loulou'\n",
       "\\item 'Loulou'\n",
       "\\item 'Sean'\n",
       "\\item 'Sean'\n",
       "\\item 'Sean'\n",
       "\\item 'Sean'\n",
       "\\item 'Sean'\n",
       "\\item 'Sean'\n",
       "\\end{enumerate*}\n"
      ],
      "text/markdown": [
       "1. 'Kevin'\n",
       "2. 'Kevin'\n",
       "3. 'Kevin'\n",
       "4. 'Oscar'\n",
       "5. 'Oscar'\n",
       "6. 'Oscar'\n",
       "7. 'Oscar'\n",
       "8. 'Oscar'\n",
       "9. 'Oscar'\n",
       "10. 'Oscar'\n",
       "11. 'Loulou'\n",
       "12. 'Loulou'\n",
       "13. 'Loulou'\n",
       "14. 'Loulou'\n",
       "15. 'Sean'\n",
       "16. 'Sean'\n",
       "17. 'Sean'\n",
       "18. 'Sean'\n",
       "19. 'Sean'\n",
       "20. 'Sean'\n",
       "\n",
       "\n"
      ],
      "text/plain": [
       " [1] \"Kevin\"  \"Kevin\"  \"Kevin\"  \"Oscar\"  \"Oscar\"  \"Oscar\"  \"Oscar\"  \"Oscar\" \n",
       " [9] \"Oscar\"  \"Oscar\"  \"Loulou\" \"Loulou\" \"Loulou\" \"Loulou\" \"Sean\"   \"Sean\"  \n",
       "[17] \"Sean\"   \"Sean\"   \"Sean\"   \"Sean\"  "
      ]
     },
     "metadata": {},
     "output_type": "display_data"
    }
   ],
   "source": [
    "X4"
   ]
  },
  {
   "cell_type": "code",
   "execution_count": 60,
   "metadata": {
    "collapsed": true
   },
   "outputs": [],
   "source": [
    "X5 <- round(rnorm(20,100,10),2)"
   ]
  },
  {
   "cell_type": "code",
   "execution_count": 61,
   "metadata": {
    "collapsed": false
   },
   "outputs": [
    {
     "data": {
      "text/html": [
       "<ol class=list-inline>\n",
       "\t<li>110.87</li>\n",
       "\t<li>83.16</li>\n",
       "\t<li>112.41</li>\n",
       "\t<li>105.47</li>\n",
       "\t<li>96</li>\n",
       "\t<li>118.11</li>\n",
       "\t<li>115.09</li>\n",
       "\t<li>86.73</li>\n",
       "\t<li>86.73</li>\n",
       "\t<li>89.23</li>\n",
       "\t<li>100.57</li>\n",
       "\t<li>91.1</li>\n",
       "\t<li>83.75</li>\n",
       "\t<li>112.96</li>\n",
       "\t<li>80.76</li>\n",
       "\t<li>105.32</li>\n",
       "\t<li>103.56</li>\n",
       "\t<li>113.53</li>\n",
       "\t<li>103.95</li>\n",
       "\t<li>94.6</li>\n",
       "</ol>\n"
      ],
      "text/latex": [
       "\\begin{enumerate*}\n",
       "\\item 110.87\n",
       "\\item 83.16\n",
       "\\item 112.41\n",
       "\\item 105.47\n",
       "\\item 96\n",
       "\\item 118.11\n",
       "\\item 115.09\n",
       "\\item 86.73\n",
       "\\item 86.73\n",
       "\\item 89.23\n",
       "\\item 100.57\n",
       "\\item 91.1\n",
       "\\item 83.75\n",
       "\\item 112.96\n",
       "\\item 80.76\n",
       "\\item 105.32\n",
       "\\item 103.56\n",
       "\\item 113.53\n",
       "\\item 103.95\n",
       "\\item 94.6\n",
       "\\end{enumerate*}\n"
      ],
      "text/markdown": [
       "1. 110.87\n",
       "2. 83.16\n",
       "3. 112.41\n",
       "4. 105.47\n",
       "5. 96\n",
       "6. 118.11\n",
       "7. 115.09\n",
       "8. 86.73\n",
       "9. 86.73\n",
       "10. 89.23\n",
       "11. 100.57\n",
       "12. 91.1\n",
       "13. 83.75\n",
       "14. 112.96\n",
       "15. 80.76\n",
       "16. 105.32\n",
       "17. 103.56\n",
       "18. 113.53\n",
       "19. 103.95\n",
       "20. 94.6\n",
       "\n",
       "\n"
      ],
      "text/plain": [
       " [1] 110.87  83.16 112.41 105.47  96.00 118.11 115.09  86.73  86.73  89.23\n",
       "[11] 100.57  91.10  83.75 112.96  80.76 105.32 103.56 113.53 103.95  94.60"
      ]
     },
     "metadata": {},
     "output_type": "display_data"
    }
   ],
   "source": [
    "X5"
   ]
  },
  {
   "cell_type": "code",
   "execution_count": 62,
   "metadata": {
    "collapsed": true
   },
   "outputs": [],
   "source": [
    "X6 = X5 > 104"
   ]
  },
  {
   "cell_type": "code",
   "execution_count": 63,
   "metadata": {
    "collapsed": false
   },
   "outputs": [
    {
     "data": {
      "text/html": [
       "<ol class=list-inline>\n",
       "\t<li>TRUE</li>\n",
       "\t<li>FALSE</li>\n",
       "\t<li>TRUE</li>\n",
       "\t<li>TRUE</li>\n",
       "\t<li>FALSE</li>\n",
       "\t<li>TRUE</li>\n",
       "\t<li>TRUE</li>\n",
       "\t<li>FALSE</li>\n",
       "\t<li>FALSE</li>\n",
       "\t<li>FALSE</li>\n",
       "\t<li>FALSE</li>\n",
       "\t<li>FALSE</li>\n",
       "\t<li>FALSE</li>\n",
       "\t<li>TRUE</li>\n",
       "\t<li>FALSE</li>\n",
       "\t<li>TRUE</li>\n",
       "\t<li>FALSE</li>\n",
       "\t<li>TRUE</li>\n",
       "\t<li>FALSE</li>\n",
       "\t<li>FALSE</li>\n",
       "</ol>\n"
      ],
      "text/latex": [
       "\\begin{enumerate*}\n",
       "\\item TRUE\n",
       "\\item FALSE\n",
       "\\item TRUE\n",
       "\\item TRUE\n",
       "\\item FALSE\n",
       "\\item TRUE\n",
       "\\item TRUE\n",
       "\\item FALSE\n",
       "\\item FALSE\n",
       "\\item FALSE\n",
       "\\item FALSE\n",
       "\\item FALSE\n",
       "\\item FALSE\n",
       "\\item TRUE\n",
       "\\item FALSE\n",
       "\\item TRUE\n",
       "\\item FALSE\n",
       "\\item TRUE\n",
       "\\item FALSE\n",
       "\\item FALSE\n",
       "\\end{enumerate*}\n"
      ],
      "text/markdown": [
       "1. TRUE\n",
       "2. FALSE\n",
       "3. TRUE\n",
       "4. TRUE\n",
       "5. FALSE\n",
       "6. TRUE\n",
       "7. TRUE\n",
       "8. FALSE\n",
       "9. FALSE\n",
       "10. FALSE\n",
       "11. FALSE\n",
       "12. FALSE\n",
       "13. FALSE\n",
       "14. TRUE\n",
       "15. FALSE\n",
       "16. TRUE\n",
       "17. FALSE\n",
       "18. TRUE\n",
       "19. FALSE\n",
       "20. FALSE\n",
       "\n",
       "\n"
      ],
      "text/plain": [
       " [1]  TRUE FALSE  TRUE  TRUE FALSE  TRUE  TRUE FALSE FALSE FALSE FALSE FALSE\n",
       "[13] FALSE  TRUE FALSE  TRUE FALSE  TRUE FALSE FALSE"
      ]
     },
     "metadata": {},
     "output_type": "display_data"
    }
   ],
   "source": [
    "X6"
   ]
  },
  {
   "cell_type": "code",
   "execution_count": 64,
   "metadata": {
    "collapsed": false
   },
   "outputs": [
    {
     "data": {
      "text/html": [
       "'logical'"
      ],
      "text/latex": [
       "'logical'"
      ],
      "text/markdown": [
       "'logical'"
      ],
      "text/plain": [
       "[1] \"logical\""
      ]
     },
     "metadata": {},
     "output_type": "display_data"
    }
   ],
   "source": [
    "class(X6)"
   ]
  },
  {
   "cell_type": "code",
   "execution_count": 65,
   "metadata": {
    "collapsed": false
   },
   "outputs": [
    {
     "data": {
      "text/html": [
       "8"
      ],
      "text/latex": [
       "8"
      ],
      "text/markdown": [
       "8"
      ],
      "text/plain": [
       "[1] 8"
      ]
     },
     "metadata": {},
     "output_type": "display_data"
    }
   ],
   "source": [
    "sum(X6)"
   ]
  },
  {
   "cell_type": "code",
   "execution_count": 69,
   "metadata": {
    "collapsed": false
   },
   "outputs": [],
   "source": [
    "myDF1 <- data.frame(ID = 101:120,X1,X2,X3)"
   ]
  },
  {
   "cell_type": "code",
   "execution_count": 73,
   "metadata": {
    "collapsed": false
   },
   "outputs": [],
   "source": [
    "myDF2 <- data.frame(ID = 104:123,X4,X5,X6)"
   ]
  },
  {
   "cell_type": "code",
   "execution_count": 80,
   "metadata": {
    "collapsed": false
   },
   "outputs": [
    {
     "name": "stderr",
     "output_type": "stream",
     "text": [
      "Joining, by = \"ID\"\n"
     ]
    },
    {
     "data": {
      "text/html": [
       "<table>\n",
       "<thead><tr><th scope=col>ID</th><th scope=col>X1</th><th scope=col>X2</th><th scope=col>X3</th><th scope=col>X4</th><th scope=col>X5</th><th scope=col>X6</th></tr></thead>\n",
       "<tbody>\n",
       "\t<tr><td>101   </td><td> 1    </td><td>2     </td><td>Kevin </td><td>NA    </td><td>    NA</td><td>   NA </td></tr>\n",
       "\t<tr><td>102   </td><td> 2    </td><td>6     </td><td>Oscar </td><td>NA    </td><td>    NA</td><td>   NA </td></tr>\n",
       "\t<tr><td>103   </td><td> 3    </td><td>4     </td><td>Loulou</td><td>NA    </td><td>    NA</td><td>   NA </td></tr>\n",
       "\t<tr><td>104   </td><td> 4    </td><td>4     </td><td>Sean  </td><td>Kevin </td><td>110.87</td><td> TRUE </td></tr>\n",
       "\t<tr><td>105   </td><td> 5    </td><td>3     </td><td>Kevin </td><td>Kevin </td><td> 83.16</td><td>FALSE </td></tr>\n",
       "\t<tr><td>106   </td><td> 6    </td><td>6     </td><td>Oscar </td><td>Kevin </td><td>112.41</td><td> TRUE </td></tr>\n",
       "\t<tr><td>107   </td><td> 7    </td><td>3     </td><td>Loulou</td><td>Oscar </td><td>105.47</td><td> TRUE </td></tr>\n",
       "\t<tr><td>108   </td><td> 8    </td><td>4     </td><td>Sean  </td><td>Oscar </td><td> 96.00</td><td>FALSE </td></tr>\n",
       "\t<tr><td>109   </td><td> 9    </td><td>5     </td><td>Kevin </td><td>Oscar </td><td>118.11</td><td> TRUE </td></tr>\n",
       "\t<tr><td>110   </td><td>10    </td><td>6     </td><td>Oscar </td><td>Oscar </td><td>115.09</td><td> TRUE </td></tr>\n",
       "\t<tr><td>111   </td><td>11    </td><td>1     </td><td>Loulou</td><td>Oscar </td><td> 86.73</td><td>FALSE </td></tr>\n",
       "\t<tr><td>112   </td><td>12    </td><td>2     </td><td>Sean  </td><td>Oscar </td><td> 86.73</td><td>FALSE </td></tr>\n",
       "\t<tr><td>113   </td><td>13    </td><td>2     </td><td>Kevin </td><td>Oscar </td><td> 89.23</td><td>FALSE </td></tr>\n",
       "\t<tr><td>114   </td><td>14    </td><td>6     </td><td>Oscar </td><td>Loulou</td><td>100.57</td><td>FALSE </td></tr>\n",
       "\t<tr><td>115   </td><td>15    </td><td>4     </td><td>Loulou</td><td>Loulou</td><td> 91.10</td><td>FALSE </td></tr>\n",
       "\t<tr><td>116   </td><td>16    </td><td>3     </td><td>Sean  </td><td>Loulou</td><td> 83.75</td><td>FALSE </td></tr>\n",
       "\t<tr><td>117   </td><td>17    </td><td>2     </td><td>Kevin </td><td>Loulou</td><td>112.96</td><td> TRUE </td></tr>\n",
       "\t<tr><td>118   </td><td>18    </td><td>1     </td><td>Oscar </td><td>Sean  </td><td> 80.76</td><td>FALSE </td></tr>\n",
       "\t<tr><td>119   </td><td>19    </td><td>3     </td><td>Loulou</td><td>Sean  </td><td>105.32</td><td> TRUE </td></tr>\n",
       "\t<tr><td>120   </td><td>20    </td><td>3     </td><td>Sean  </td><td>Sean  </td><td>103.56</td><td>FALSE </td></tr>\n",
       "</tbody>\n",
       "</table>\n"
      ],
      "text/latex": [
       "\\begin{tabular}{r|lllllll}\n",
       " ID & X1 & X2 & X3 & X4 & X5 & X6\\\\\n",
       "\\hline\n",
       "\t 101    &  1     & 2      & Kevin  & NA     &     NA &    NA \\\\\n",
       "\t 102    &  2     & 6      & Oscar  & NA     &     NA &    NA \\\\\n",
       "\t 103    &  3     & 4      & Loulou & NA     &     NA &    NA \\\\\n",
       "\t 104    &  4     & 4      & Sean   & Kevin  & 110.87 &  TRUE \\\\\n",
       "\t 105    &  5     & 3      & Kevin  & Kevin  &  83.16 & FALSE \\\\\n",
       "\t 106    &  6     & 6      & Oscar  & Kevin  & 112.41 &  TRUE \\\\\n",
       "\t 107    &  7     & 3      & Loulou & Oscar  & 105.47 &  TRUE \\\\\n",
       "\t 108    &  8     & 4      & Sean   & Oscar  &  96.00 & FALSE \\\\\n",
       "\t 109    &  9     & 5      & Kevin  & Oscar  & 118.11 &  TRUE \\\\\n",
       "\t 110    & 10     & 6      & Oscar  & Oscar  & 115.09 &  TRUE \\\\\n",
       "\t 111    & 11     & 1      & Loulou & Oscar  &  86.73 & FALSE \\\\\n",
       "\t 112    & 12     & 2      & Sean   & Oscar  &  86.73 & FALSE \\\\\n",
       "\t 113    & 13     & 2      & Kevin  & Oscar  &  89.23 & FALSE \\\\\n",
       "\t 114    & 14     & 6      & Oscar  & Loulou & 100.57 & FALSE \\\\\n",
       "\t 115    & 15     & 4      & Loulou & Loulou &  91.10 & FALSE \\\\\n",
       "\t 116    & 16     & 3      & Sean   & Loulou &  83.75 & FALSE \\\\\n",
       "\t 117    & 17     & 2      & Kevin  & Loulou & 112.96 &  TRUE \\\\\n",
       "\t 118    & 18     & 1      & Oscar  & Sean   &  80.76 & FALSE \\\\\n",
       "\t 119    & 19     & 3      & Loulou & Sean   & 105.32 &  TRUE \\\\\n",
       "\t 120    & 20     & 3      & Sean   & Sean   & 103.56 & FALSE \\\\\n",
       "\\end{tabular}\n"
      ],
      "text/markdown": [
       "\n",
       "ID | X1 | X2 | X3 | X4 | X5 | X6 | \n",
       "|---|---|---|---|---|---|---|---|---|---|---|---|---|---|---|---|---|---|---|---|\n",
       "| 101    |  1     | 2      | Kevin  | NA     |     NA |    NA  | \n",
       "| 102    |  2     | 6      | Oscar  | NA     |     NA |    NA  | \n",
       "| 103    |  3     | 4      | Loulou | NA     |     NA |    NA  | \n",
       "| 104    |  4     | 4      | Sean   | Kevin  | 110.87 |  TRUE  | \n",
       "| 105    |  5     | 3      | Kevin  | Kevin  |  83.16 | FALSE  | \n",
       "| 106    |  6     | 6      | Oscar  | Kevin  | 112.41 |  TRUE  | \n",
       "| 107    |  7     | 3      | Loulou | Oscar  | 105.47 |  TRUE  | \n",
       "| 108    |  8     | 4      | Sean   | Oscar  |  96.00 | FALSE  | \n",
       "| 109    |  9     | 5      | Kevin  | Oscar  | 118.11 |  TRUE  | \n",
       "| 110    | 10     | 6      | Oscar  | Oscar  | 115.09 |  TRUE  | \n",
       "| 111    | 11     | 1      | Loulou | Oscar  |  86.73 | FALSE  | \n",
       "| 112    | 12     | 2      | Sean   | Oscar  |  86.73 | FALSE  | \n",
       "| 113    | 13     | 2      | Kevin  | Oscar  |  89.23 | FALSE  | \n",
       "| 114    | 14     | 6      | Oscar  | Loulou | 100.57 | FALSE  | \n",
       "| 115    | 15     | 4      | Loulou | Loulou |  91.10 | FALSE  | \n",
       "| 116    | 16     | 3      | Sean   | Loulou |  83.75 | FALSE  | \n",
       "| 117    | 17     | 2      | Kevin  | Loulou | 112.96 |  TRUE  | \n",
       "| 118    | 18     | 1      | Oscar  | Sean   |  80.76 | FALSE  | \n",
       "| 119    | 19     | 3      | Loulou | Sean   | 105.32 |  TRUE  | \n",
       "| 120    | 20     | 3      | Sean   | Sean   | 103.56 | FALSE  | \n",
       "\n",
       "\n"
      ],
      "text/plain": [
       "   ID  X1 X2 X3     X4     X5     X6   \n",
       "1  101  1 2  Kevin  NA         NA    NA\n",
       "2  102  2 6  Oscar  NA         NA    NA\n",
       "3  103  3 4  Loulou NA         NA    NA\n",
       "4  104  4 4  Sean   Kevin  110.87  TRUE\n",
       "5  105  5 3  Kevin  Kevin   83.16 FALSE\n",
       "6  106  6 6  Oscar  Kevin  112.41  TRUE\n",
       "7  107  7 3  Loulou Oscar  105.47  TRUE\n",
       "8  108  8 4  Sean   Oscar   96.00 FALSE\n",
       "9  109  9 5  Kevin  Oscar  118.11  TRUE\n",
       "10 110 10 6  Oscar  Oscar  115.09  TRUE\n",
       "11 111 11 1  Loulou Oscar   86.73 FALSE\n",
       "12 112 12 2  Sean   Oscar   86.73 FALSE\n",
       "13 113 13 2  Kevin  Oscar   89.23 FALSE\n",
       "14 114 14 6  Oscar  Loulou 100.57 FALSE\n",
       "15 115 15 4  Loulou Loulou  91.10 FALSE\n",
       "16 116 16 3  Sean   Loulou  83.75 FALSE\n",
       "17 117 17 2  Kevin  Loulou 112.96  TRUE\n",
       "18 118 18 1  Oscar  Sean    80.76 FALSE\n",
       "19 119 19 3  Loulou Sean   105.32  TRUE\n",
       "20 120 20 3  Sean   Sean   103.56 FALSE"
      ]
     },
     "metadata": {},
     "output_type": "display_data"
    }
   ],
   "source": [
    "library(dplyr)\n",
    "left_join(myDF1,myDF2)"
   ]
  },
  {
   "cell_type": "code",
   "execution_count": 84,
   "metadata": {
    "collapsed": false
   },
   "outputs": [
    {
     "name": "stderr",
     "output_type": "stream",
     "text": [
      "Joining, by = \"ID\"\n"
     ]
    },
    {
     "data": {
      "text/html": [
       "<table>\n",
       "<thead><tr><th scope=col>ID</th><th scope=col>X4</th><th scope=col>X5</th><th scope=col>X6</th></tr></thead>\n",
       "<tbody>\n",
       "\t<tr><td>123   </td><td>Sean  </td><td> 94.60</td><td>FALSE </td></tr>\n",
       "\t<tr><td>122   </td><td>Sean  </td><td>103.95</td><td>FALSE </td></tr>\n",
       "\t<tr><td>121   </td><td>Sean  </td><td>113.53</td><td> TRUE </td></tr>\n",
       "</tbody>\n",
       "</table>\n"
      ],
      "text/latex": [
       "\\begin{tabular}{r|llll}\n",
       " ID & X4 & X5 & X6\\\\\n",
       "\\hline\n",
       "\t 123    & Sean   &  94.60 & FALSE \\\\\n",
       "\t 122    & Sean   & 103.95 & FALSE \\\\\n",
       "\t 121    & Sean   & 113.53 &  TRUE \\\\\n",
       "\\end{tabular}\n"
      ],
      "text/markdown": [
       "\n",
       "ID | X4 | X5 | X6 | \n",
       "|---|---|---|\n",
       "| 123    | Sean   |  94.60 | FALSE  | \n",
       "| 122    | Sean   | 103.95 | FALSE  | \n",
       "| 121    | Sean   | 113.53 |  TRUE  | \n",
       "\n",
       "\n"
      ],
      "text/plain": [
       "  ID  X4   X5     X6   \n",
       "1 123 Sean  94.60 FALSE\n",
       "2 122 Sean 103.95 FALSE\n",
       "3 121 Sean 113.53  TRUE"
      ]
     },
     "metadata": {},
     "output_type": "display_data"
    }
   ],
   "source": [
    "anti_join(myDF2,myDF1)"
   ]
  },
  {
   "cell_type": "code",
   "execution_count": 88,
   "metadata": {
    "collapsed": false
   },
   "outputs": [],
   "source": [
    "library(ggplot2)"
   ]
  },
  {
   "cell_type": "code",
   "execution_count": 126,
   "metadata": {
    "collapsed": false
   },
   "outputs": [],
   "source": [
    "p = ggplot(aes(x=am,y=mpg),data=mtcars)"
   ]
  },
  {
   "cell_type": "code",
   "execution_count": 127,
   "metadata": {
    "collapsed": false
   },
   "outputs": [
    {
     "ename": "ERROR",
     "evalue": "Error: Don't know how to add geom_boxplot to a plot\n",
     "output_type": "error",
     "traceback": [
      "Error: Don't know how to add geom_boxplot to a plot\nTraceback:\n",
      "1. `+.gg`(p, geom_boxplot)",
      "2. add_ggplot(e1, e2, e2name)",
      "3. stop(\"Don't know how to add \", objectname, \" to a plot\", call. = FALSE)"
     ]
    }
   ],
   "source": [
    "p+geom_boxplot"
   ]
  },
  {
   "cell_type": "code",
   "execution_count": null,
   "metadata": {
    "collapsed": true
   },
   "outputs": [],
   "source": []
  },
  {
   "cell_type": "code",
   "execution_count": null,
   "metadata": {
    "collapsed": true
   },
   "outputs": [],
   "source": []
  }
 ],
 "metadata": {
  "kernelspec": {
   "display_name": "R",
   "language": "R",
   "name": "r"
  },
  "language_info": {
   "codemirror_mode": "r",
   "file_extension": ".r",
   "mimetype": "text/x-r-source",
   "name": "R",
   "pygments_lexer": "r",
   "version": "3.3.0"
  }
 },
 "nbformat": 4,
 "nbformat_minor": 2
}
