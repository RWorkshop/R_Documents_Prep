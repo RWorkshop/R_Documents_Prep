{
 "cells": [
  {
   "cell_type": "code",
   "execution_count": 3,
   "metadata": {
    "collapsed": true
   },
   "outputs": [],
   "source": [
    "# Linear Algebra\n",
    "# construct a three-by-three matrix. Values entered by column.\n",
    "Mat1 = matrix(c(1,2,2,0,5,0,1,2,3),ncol=3)\n"
   ]
  },
  {
   "cell_type": "code",
   "execution_count": 4,
   "metadata": {
    "collapsed": false
   },
   "outputs": [
    {
     "data": {
      "text/html": [
       "<table>\n",
       "<tbody>\n",
       "\t<tr><td>1</td><td>0</td><td>1</td></tr>\n",
       "\t<tr><td>2</td><td>5</td><td>2</td></tr>\n",
       "\t<tr><td>2</td><td>0</td><td>3</td></tr>\n",
       "</tbody>\n",
       "</table>\n"
      ],
      "text/latex": [
       "\\begin{tabular}{lll}\n",
       "\t 1 & 0 & 1\\\\\n",
       "\t 2 & 5 & 2\\\\\n",
       "\t 2 & 0 & 3\\\\\n",
       "\\end{tabular}\n"
      ],
      "text/markdown": [
       "\n",
       "| 1 | 0 | 1 | \n",
       "| 2 | 5 | 2 | \n",
       "| 2 | 0 | 3 | \n",
       "\n",
       "\n"
      ],
      "text/plain": [
       "     [,1] [,2] [,3]\n",
       "[1,] 1    0    1   \n",
       "[2,] 2    5    2   \n",
       "[3,] 2    0    3   "
      ]
     },
     "metadata": {},
     "output_type": "display_data"
    },
    {
     "data": {
      "text/html": [
       "<ol class=list-inline>\n",
       "\t<li>3</li>\n",
       "\t<li>3</li>\n",
       "</ol>\n"
      ],
      "text/latex": [
       "\\begin{enumerate*}\n",
       "\\item 3\n",
       "\\item 3\n",
       "\\end{enumerate*}\n"
      ],
      "text/markdown": [
       "1. 3\n",
       "2. 3\n",
       "\n",
       "\n"
      ],
      "text/plain": [
       "[1] 3 3"
      ]
     },
     "metadata": {},
     "output_type": "display_data"
    },
    {
     "data": {
      "text/html": [
       "5"
      ],
      "text/latex": [
       "5"
      ],
      "text/markdown": [
       "5"
      ],
      "text/plain": [
       "[1] 5"
      ]
     },
     "metadata": {},
     "output_type": "display_data"
    }
   ],
   "source": [
    "#?matrix           \t          \t          \t             # access the help function entry for “matrix”.\n",
    "Mat1                         \t          \t             #print the matrix on the screen.\n",
    "dim(Mat1)                         \t             #determine the dimensions.\n",
    "Mat1 = t(Mat1)                             #transpose the matrix permanently.\n",
    "det(Mat1)           \t          \t             #calculate the determinant. Is it non-zero?\n"
   ]
  },
  {
   "cell_type": "code",
   "execution_count": null,
   "metadata": {
    "collapsed": true
   },
   "outputs": [],
   "source": [
    "\n",
    "solve(Mat1)            \t          \t             #calculate the inverse.\n",
    "eigen(Mat1)           \t          \t             #compute eigenvalues and eigenvectors ."
   ]
  },
  {
   "cell_type": "code",
   "execution_count": 5,
   "metadata": {
    "collapsed": false
   },
   "outputs": [
    {
     "data": {
      "text/html": [
       "<table>\n",
       "<tbody>\n",
       "\t<tr><td> 3  </td><td>-0.4</td><td>-2  </td></tr>\n",
       "\t<tr><td> 0  </td><td> 0.2</td><td> 0  </td></tr>\n",
       "\t<tr><td>-1  </td><td> 0.0</td><td> 1  </td></tr>\n",
       "</tbody>\n",
       "</table>\n"
      ],
      "text/latex": [
       "\\begin{tabular}{lll}\n",
       "\t  3   & -0.4 & -2  \\\\\n",
       "\t  0   &  0.2 &  0  \\\\\n",
       "\t -1   &  0.0 &  1  \\\\\n",
       "\\end{tabular}\n"
      ],
      "text/markdown": [
       "\n",
       "|  3   | -0.4 | -2   | \n",
       "|  0   |  0.2 |  0   | \n",
       "| -1   |  0.0 |  1   | \n",
       "\n",
       "\n"
      ],
      "text/plain": [
       "     [,1] [,2] [,3]\n",
       "[1,]  3   -0.4 -2  \n",
       "[2,]  0    0.2  0  \n",
       "[3,] -1    0.0  1  "
      ]
     },
     "metadata": {},
     "output_type": "display_data"
    },
    {
     "data": {
      "text/html": [
       "<dl>\n",
       "\t<dt>$values</dt>\n",
       "\t\t<dd><ol class=list-inline>\n",
       "\t<li>5</li>\n",
       "\t<li>3.73205080756888</li>\n",
       "\t<li>0.267949192431123</li>\n",
       "</ol>\n",
       "</dd>\n",
       "\t<dt>$vectors</dt>\n",
       "\t\t<dd><table>\n",
       "<tbody>\n",
       "\t<tr><td>0.5656854 </td><td>-0.5906905</td><td>-0.9390708</td></tr>\n",
       "\t<tr><td>0.4242641 </td><td> 0.0000000</td><td> 0.0000000</td></tr>\n",
       "\t<tr><td>0.7071068 </td><td>-0.8068982</td><td> 0.3437238</td></tr>\n",
       "</tbody>\n",
       "</table>\n",
       "</dd>\n",
       "</dl>\n"
      ],
      "text/latex": [
       "\\begin{description}\n",
       "\\item[\\$values] \\begin{enumerate*}\n",
       "\\item 5\n",
       "\\item 3.73205080756888\n",
       "\\item 0.267949192431123\n",
       "\\end{enumerate*}\n",
       "\n",
       "\\item[\\$vectors] \\begin{tabular}{lll}\n",
       "\t 0.5656854  & -0.5906905 & -0.9390708\\\\\n",
       "\t 0.4242641  &  0.0000000 &  0.0000000\\\\\n",
       "\t 0.7071068  & -0.8068982 &  0.3437238\\\\\n",
       "\\end{tabular}\n",
       "\n",
       "\\end{description}\n"
      ],
      "text/markdown": [
       "$values\n",
       ":   1. 5\n",
       "2. 3.73205080756888\n",
       "3. 0.267949192431123\n",
       "\n",
       "\n",
       "\n",
       "$vectors\n",
       ":   \n",
       "| 0.5656854  | -0.5906905 | -0.9390708 | \n",
       "| 0.4242641  |  0.0000000 |  0.0000000 | \n",
       "| 0.7071068  | -0.8068982 |  0.3437238 | \n",
       "\n",
       "\n",
       "\n",
       "\n",
       "\n"
      ],
      "text/plain": [
       "$values\n",
       "[1] 5.0000000 3.7320508 0.2679492\n",
       "\n",
       "$vectors\n",
       "          [,1]       [,2]       [,3]\n",
       "[1,] 0.5656854 -0.5906905 -0.9390708\n",
       "[2,] 0.4242641  0.0000000  0.0000000\n",
       "[3,] 0.7071068 -0.8068982  0.3437238\n"
      ]
     },
     "metadata": {},
     "output_type": "display_data"
    },
    {
     "data": {
      "text/html": [
       "<ol class=list-inline>\n",
       "\t<li>'values'</li>\n",
       "\t<li>'vectors'</li>\n",
       "</ol>\n"
      ],
      "text/latex": [
       "\\begin{enumerate*}\n",
       "\\item 'values'\n",
       "\\item 'vectors'\n",
       "\\end{enumerate*}\n"
      ],
      "text/markdown": [
       "1. 'values'\n",
       "2. 'vectors'\n",
       "\n",
       "\n"
      ],
      "text/plain": [
       "[1] \"values\"  \"vectors\""
      ]
     },
     "metadata": {},
     "output_type": "display_data"
    },
    {
     "data": {
      "text/html": [
       "<ol class=list-inline>\n",
       "\t<li>5</li>\n",
       "\t<li>3.73205080756888</li>\n",
       "\t<li>0.267949192431123</li>\n",
       "</ol>\n"
      ],
      "text/latex": [
       "\\begin{enumerate*}\n",
       "\\item 5\n",
       "\\item 3.73205080756888\n",
       "\\item 0.267949192431123\n",
       "\\end{enumerate*}\n"
      ],
      "text/markdown": [
       "1. 5\n",
       "2. 3.73205080756888\n",
       "3. 0.267949192431123\n",
       "\n",
       "\n"
      ],
      "text/plain": [
       "[1] 5.0000000 3.7320508 0.2679492"
      ]
     },
     "metadata": {},
     "output_type": "display_data"
    }
   ],
   "source": [
    "\n",
    "names(eigen(Mat1))           \t             # determine the name.\n",
    "eigen(Mat1)$values            \t             #access the eigenvalues.\n",
    " "
   ]
  },
  {
   "cell_type": "markdown",
   "metadata": {},
   "source": [
    "#### Numerical methods\n",
    "Matrrix “Mat2” is a positive definite symmetric matrix."
   ]
  },
  {
   "cell_type": "code",
   "execution_count": 8,
   "metadata": {
    "collapsed": false
   },
   "outputs": [
    {
     "ename": "ERROR",
     "evalue": "Error in solve(Dgnl): object 'Dgnl' not found\n",
     "output_type": "error",
     "traceback": [
      "Error in solve(Dgnl): object 'Dgnl' not found\nTraceback:\n",
      "1. solve(Dgnl)"
     ]
    }
   ],
   "source": [
    "Dgnl.inv = solve(Dgnl)                            # invert the D matrix\n",
    "Dgnl.inv                           \n",
    "Rmdr = Mat1 - Dgnl           \t             # Compute the \"Remainder\" matrix (elementwise subtraction)\n"
   ]
  },
  {
   "cell_type": "code",
   "execution_count": 10,
   "metadata": {
    "collapsed": false
   },
   "outputs": [
    {
     "ename": "ERROR",
     "evalue": "Error in parse(text = x, srcfile = src): <text>:5:1: unexpected symbol\n4: t(as.matrix(Dvls)                            # transpose of above              (1R3C)\n5: Idty\n   ^\n",
     "output_type": "error",
     "traceback": [
      "Error in parse(text = x, srcfile = src): <text>:5:1: unexpected symbol\n4: t(as.matrix(Dvls)                            # transpose of above              (1R3C)\n5: Idty\n   ^\nTraceback:\n"
     ]
    }
   ],
   "source": [
    "Dvls = diag(Mat1)                 # extract vector of the diagonal elements of 'Mat1'\n",
    "Dvls                                                        #print to screen\n",
    "as.matrix(Dvls)                                   # display the vector in matrix form (3R1C)\n",
    "t(as.matrix(Dvls)                   # transpose of above              (1R3C)\n",
    "Idty = diag(c(1,1,1))                            # create the identity matrix\n",
    "Idty                                                        #print to screen\n",
    "Dgnl = diag(diag(Mat1))              # create a 'D' matrix               (courework: diagonalization)\n",
    "Dgnl                                                       \n",
    "Dvls * Idty                   # alternative method with scalar multiplication.\n",
    " # N.B.  Dvls is a vector, not a matrix.\n"
   ]
  },
  {
   "cell_type": "code",
   "execution_count": 9,
   "metadata": {
    "collapsed": false
   },
   "outputs": [
    {
     "data": {
      "text/html": [
       "<table>\n",
       "<tbody>\n",
       "\t<tr><td>1</td><td>3</td><td>1</td></tr>\n",
       "\t<tr><td>0</td><td>2</td><td>2</td></tr>\n",
       "\t<tr><td>0</td><td>0</td><td>1</td></tr>\n",
       "</tbody>\n",
       "</table>\n"
      ],
      "text/latex": [
       "\\begin{tabular}{lll}\n",
       "\t 1 & 3 & 1\\\\\n",
       "\t 0 & 2 & 2\\\\\n",
       "\t 0 & 0 & 1\\\\\n",
       "\\end{tabular}\n"
      ],
      "text/markdown": [
       "\n",
       "| 1 | 3 | 1 | \n",
       "| 0 | 2 | 2 | \n",
       "| 0 | 0 | 1 | \n",
       "\n",
       "\n"
      ],
      "text/plain": [
       "     [,1] [,2] [,3]\n",
       "[1,] 1    3    1   \n",
       "[2,] 0    2    2   \n",
       "[3,] 0    0    1   "
      ]
     },
     "metadata": {},
     "output_type": "display_data"
    }
   ],
   "source": [
    "\n",
    "\n",
    "\n",
    "# construct a positive definite symmetric three-by-three matrix\n",
    "Mat2 = matrix(c(1,3,1,3,13,7,1,7,6),ncol=3)\n",
    "chol(Mat2)           \t          \t             #Cholesky decomposition of Matrix A\n",
    " "
   ]
  },
  {
   "cell_type": "code",
   "execution_count": null,
   "metadata": {
    "collapsed": true
   },
   "outputs": [],
   "source": [
    "More on Matrices\n",
    "Note that the following commands are useful for Experimental Design.\n",
    "rowMeans(Mat1) \t\t\t#Returns vector of row means. \n",
    "rowSums(Mat1) \t\t\t#Returns vector of row sums.  \n",
    "colMeans(Mat1) \t\t\t#Returns vector of column means.  \n",
    "colSums(Mat1) \t\t\t\t#Returns vector of coumn means.  \n",
    "If x and y are matrices then the covariances (or correlations) between the columns of x and the columns of y are computed.\n",
    "\n"
   ]
  }
 ],
 "metadata": {
  "kernelspec": {
   "display_name": "R",
   "language": "R",
   "name": "r"
  },
  "language_info": {
   "codemirror_mode": "r",
   "file_extension": ".r",
   "mimetype": "text/x-r-source",
   "name": "R",
   "pygments_lexer": "r",
   "version": "3.3.0"
  }
 },
 "nbformat": 4,
 "nbformat_minor": 2
}
